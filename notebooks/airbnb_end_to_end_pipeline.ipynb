{
 "cells": [
  {
   "cell_type": "markdown",
   "id": "ed7b7c40",
   "metadata": {},
   "source": [
    "# Airbnb Host Segmentation & Superhost Prediction: End-to-End Pipeline\n",
    "\n",
    "This notebook demonstrates the full workflow: data loading, preprocessing, clustering, superhost prediction, and feature analysis."
   ]
  },
  {
   "cell_type": "code",
   "execution_count": null,
   "id": "bf915f31",
   "metadata": {},
   "outputs": [],
   "source": [
    "# Imports and utility setup\n",
    "import sys\n",
    "sys.path.append('../src')\n",
    "import pandas as pd\n",
    "from data_utils import load_data, clean_data, scale_features\n",
    "from segmentation import run_kmeans\n",
    "from superhost_prediction import train_superhost_classifier, get_feature_importance\n",
    "from visualization import plot_feature_importance, plot_cluster_summary"
   ]
  },
  {
   "cell_type": "markdown",
   "id": "22917e2d",
   "metadata": {},
   "source": [
    "## 1. Load and Preprocess Data"
   ]
  },
  {
   "cell_type": "code",
   "execution_count": null,
   "id": "ee0f7e7b",
   "metadata": {},
   "outputs": [],
   "source": [
    "# Load data (update path as needed)\n",
    "data = load_data('../data/processed_data_before_split.csv')\n",
    "\n",
    "# Clean data\n",
    "data = clean_data(data)"
   ]
  },
  {
   "cell_type": "markdown",
   "id": "075d2e88",
   "metadata": {},
   "source": [
    "## 2. Market Segmentation (Clustering)"
   ]
  },
  {
   "cell_type": "code",
   "execution_count": null,
   "id": "14d590b7",
   "metadata": {},
   "outputs": [],
   "source": [
    "# Select features for clustering\n",
    "segmentation_features = [\n",
    "    'numReviews_pastYear', 'rating_ave_pastYear', 'Nightly Rate',\n",
    "    'available_days', 'booked_days', 'booked_days_avePrice', 'available_days_aveListedPrice'\n",
    "]\n",
    "\n",
    "# Scale features\n",
    "data_scaled, scaler = scale_features(data, segmentation_features)\n",
    "\n",
    "# Run KMeans clustering\n",
    "clustered_data, kmeans = run_kmeans(data_scaled, segmentation_features, n_clusters=6)\n",
    "\n",
    "# View cluster counts\n",
    "print(clustered_data['Cluster'].value_counts())"
   ]
  },
  {
   "cell_type": "markdown",
   "id": "6e648b6e",
   "metadata": {},
   "source": [
    "## 3. Superhost Prediction"
   ]
  },
  {
   "cell_type": "code",
   "execution_count": null,
   "id": "2bf85686",
   "metadata": {},
   "outputs": [],
   "source": [
    "# Define features and target for prediction\n",
    "features = [\n",
    "    'rating_ave_pastYear', 'numReviews_pastYear', 'numCancel_pastYear',\n",
    "    'Nightly Rate', 'available_days', 'booked_days',\n",
    "    'available_days_aveListedPrice', 'booked_days_avePrice',\n",
    "    'tract_superhosts_ratio', 'tract_price_variance'\n",
    "]\n",
    "target = 'host_is_superhost_in_period'\n",
    "\n",
    "# Drop rows with missing target\n",
    "model_data = clustered_data[features + [target]].dropna()\n",
    "X = model_data[features]\n",
    "y = model_data[target]\n",
    "\n",
    "# Train classifier\n",
    "model = train_superhost_classifier(X, y, model_type='xgb')\n",
    "\n",
    "# Feature importance\n",
    "importances = get_feature_importance(model, features)\n",
    "plot_feature_importance(importances, top_n=10, title=\"Global Feature Importances\")"
   ]
  },
  {
   "cell_type": "markdown",
   "id": "5d59705a",
   "metadata": {},
   "source": [
    "## 4. Cluster-wise Analysis"
   ]
  },
  {
   "cell_type": "code",
   "execution_count": null,
   "id": "60a07fab",
   "metadata": {},
   "outputs": [],
   "source": [
    "# Compute cluster-level superhost probability\n",
    "clustered_data['Predicted_Probability_Superhost'] = model.predict_proba(clustered_data[features])[:, 1]\n",
    "cluster_summary = clustered_data.groupby('Cluster').agg(\n",
    "    Average_Probability=('Predicted_Probability_Superhost', 'mean'),\n",
    "    Total_Hosts=('Cluster', 'size'),\n",
    "    Superhost_Likely_Count=('Predicted_Probability_Superhost', lambda x: (x > 0.8).sum())\n",
    ").reset_index()\n",
    "\n",
    "plot_cluster_summary(cluster_summary, value_col='Average_Probability', title='Average Superhost Probability by Cluster')\n",
    "\n",
    "print(cluster_summary)"
   ]
  },
  {
   "cell_type": "markdown",
   "id": "cf5648f7",
   "metadata": {},
   "source": [
    "## 5. Save Outputs"
   ]
  },
  {
   "cell_type": "code",
   "execution_count": null,
   "id": "b08aef7c",
   "metadata": {},
   "outputs": [],
   "source": [
    "# Save cluster summary and predictions\n",
    "clustered_data.to_csv('../outputs/segmented_data_with_predictions.csv', index=False)\n",
    "cluster_summary.to_csv('../outputs/cluster_summary.csv', index=False)\n",
    "print(\"Outputs saved to outputs/ directory.\")"
   ]
  }
 ],
 "metadata": {
  "language_info": {
   "name": "python"
  }
 },
 "nbformat": 4,
 "nbformat_minor": 5
}
